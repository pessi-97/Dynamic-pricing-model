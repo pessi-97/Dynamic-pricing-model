{
 "cells": [
  {
   "cell_type": "code",
   "execution_count": 1,
   "id": "0d6136ea",
   "metadata": {
    "execution": {
     "iopub.execute_input": "2025-01-23T08:19:46.858144Z",
     "iopub.status.busy": "2025-01-23T08:19:46.857646Z",
     "iopub.status.idle": "2025-01-23T08:19:49.772582Z",
     "shell.execute_reply": "2025-01-23T08:19:49.771558Z"
    },
    "papermill": {
     "duration": 2.922649,
     "end_time": "2025-01-23T08:19:49.774575",
     "exception": false,
     "start_time": "2025-01-23T08:19:46.851926",
     "status": "completed"
    },
    "tags": []
   },
   "outputs": [],
   "source": [
    "import pandas as pd\n",
    "import numpy as np\n",
    "import matplotlib.pyplot as plt\n",
    "import seaborn as sns"
   ]
  },
  {
   "cell_type": "code",
   "execution_count": 2,
   "id": "d8e9015b",
   "metadata": {
    "execution": {
     "iopub.execute_input": "2025-01-23T08:19:49.784137Z",
     "iopub.status.busy": "2025-01-23T08:19:49.783596Z",
     "iopub.status.idle": "2025-01-23T08:19:49.829940Z",
     "shell.execute_reply": "2025-01-23T08:19:49.828857Z"
    },
    "papermill": {
     "duration": 0.053119,
     "end_time": "2025-01-23T08:19:49.831928",
     "exception": false,
     "start_time": "2025-01-23T08:19:49.778809",
     "status": "completed"
    },
    "tags": []
   },
   "outputs": [
    {
     "data": {
      "text/html": [
       "<div>\n",
       "<style scoped>\n",
       "    .dataframe tbody tr th:only-of-type {\n",
       "        vertical-align: middle;\n",
       "    }\n",
       "\n",
       "    .dataframe tbody tr th {\n",
       "        vertical-align: top;\n",
       "    }\n",
       "\n",
       "    .dataframe thead th {\n",
       "        text-align: right;\n",
       "    }\n",
       "</style>\n",
       "<table border=\"1\" class=\"dataframe\">\n",
       "  <thead>\n",
       "    <tr style=\"text-align: right;\">\n",
       "      <th></th>\n",
       "      <th>Number_of_Riders</th>\n",
       "      <th>Number_of_Drivers</th>\n",
       "      <th>Location_Category</th>\n",
       "      <th>Customer_Loyalty_Status</th>\n",
       "      <th>Number_of_Past_Rides</th>\n",
       "      <th>Average_Ratings</th>\n",
       "      <th>Time_of_Booking</th>\n",
       "      <th>Vehicle_Type</th>\n",
       "      <th>Expected_Ride_Duration</th>\n",
       "      <th>Historical_Cost_of_Ride</th>\n",
       "    </tr>\n",
       "  </thead>\n",
       "  <tbody>\n",
       "    <tr>\n",
       "      <th>0</th>\n",
       "      <td>90</td>\n",
       "      <td>45</td>\n",
       "      <td>Urban</td>\n",
       "      <td>Silver</td>\n",
       "      <td>13</td>\n",
       "      <td>4.47</td>\n",
       "      <td>Night</td>\n",
       "      <td>Premium</td>\n",
       "      <td>90</td>\n",
       "      <td>284.257273</td>\n",
       "    </tr>\n",
       "    <tr>\n",
       "      <th>1</th>\n",
       "      <td>58</td>\n",
       "      <td>39</td>\n",
       "      <td>Suburban</td>\n",
       "      <td>Silver</td>\n",
       "      <td>72</td>\n",
       "      <td>4.06</td>\n",
       "      <td>Evening</td>\n",
       "      <td>Economy</td>\n",
       "      <td>43</td>\n",
       "      <td>173.874753</td>\n",
       "    </tr>\n",
       "    <tr>\n",
       "      <th>2</th>\n",
       "      <td>42</td>\n",
       "      <td>31</td>\n",
       "      <td>Rural</td>\n",
       "      <td>Silver</td>\n",
       "      <td>0</td>\n",
       "      <td>3.99</td>\n",
       "      <td>Afternoon</td>\n",
       "      <td>Premium</td>\n",
       "      <td>76</td>\n",
       "      <td>329.795469</td>\n",
       "    </tr>\n",
       "    <tr>\n",
       "      <th>3</th>\n",
       "      <td>89</td>\n",
       "      <td>28</td>\n",
       "      <td>Rural</td>\n",
       "      <td>Regular</td>\n",
       "      <td>67</td>\n",
       "      <td>4.31</td>\n",
       "      <td>Afternoon</td>\n",
       "      <td>Premium</td>\n",
       "      <td>134</td>\n",
       "      <td>470.201232</td>\n",
       "    </tr>\n",
       "    <tr>\n",
       "      <th>4</th>\n",
       "      <td>78</td>\n",
       "      <td>22</td>\n",
       "      <td>Rural</td>\n",
       "      <td>Regular</td>\n",
       "      <td>74</td>\n",
       "      <td>3.77</td>\n",
       "      <td>Afternoon</td>\n",
       "      <td>Economy</td>\n",
       "      <td>149</td>\n",
       "      <td>579.681422</td>\n",
       "    </tr>\n",
       "  </tbody>\n",
       "</table>\n",
       "</div>"
      ],
      "text/plain": [
       "   Number_of_Riders  Number_of_Drivers Location_Category  \\\n",
       "0                90                 45             Urban   \n",
       "1                58                 39          Suburban   \n",
       "2                42                 31             Rural   \n",
       "3                89                 28             Rural   \n",
       "4                78                 22             Rural   \n",
       "\n",
       "  Customer_Loyalty_Status  Number_of_Past_Rides  Average_Ratings  \\\n",
       "0                  Silver                    13             4.47   \n",
       "1                  Silver                    72             4.06   \n",
       "2                  Silver                     0             3.99   \n",
       "3                 Regular                    67             4.31   \n",
       "4                 Regular                    74             3.77   \n",
       "\n",
       "  Time_of_Booking Vehicle_Type  Expected_Ride_Duration  \\\n",
       "0           Night      Premium                      90   \n",
       "1         Evening      Economy                      43   \n",
       "2       Afternoon      Premium                      76   \n",
       "3       Afternoon      Premium                     134   \n",
       "4       Afternoon      Economy                     149   \n",
       "\n",
       "   Historical_Cost_of_Ride  \n",
       "0               284.257273  \n",
       "1               173.874753  \n",
       "2               329.795469  \n",
       "3               470.201232  \n",
       "4               579.681422  "
      ]
     },
     "execution_count": 2,
     "metadata": {},
     "output_type": "execute_result"
    }
   ],
   "source": [
    "df = pd.read_csv('/kaggle/input/dynamic-pricing-dataset/dynamic_pricing.csv')\n",
    "df.head()"
   ]
  },
  {
   "cell_type": "code",
   "execution_count": 3,
   "id": "42f4675f",
   "metadata": {
    "execution": {
     "iopub.execute_input": "2025-01-23T08:19:49.841634Z",
     "iopub.status.busy": "2025-01-23T08:19:49.841188Z",
     "iopub.status.idle": "2025-01-23T08:19:49.846841Z",
     "shell.execute_reply": "2025-01-23T08:19:49.845837Z"
    },
    "papermill": {
     "duration": 0.01228,
     "end_time": "2025-01-23T08:19:49.848508",
     "exception": false,
     "start_time": "2025-01-23T08:19:49.836228",
     "status": "completed"
    },
    "tags": []
   },
   "outputs": [
    {
     "data": {
      "text/plain": [
       "(1000, 10)"
      ]
     },
     "execution_count": 3,
     "metadata": {},
     "output_type": "execute_result"
    }
   ],
   "source": [
    "df.shape"
   ]
  },
  {
   "cell_type": "code",
   "execution_count": 4,
   "id": "68230f64",
   "metadata": {
    "execution": {
     "iopub.execute_input": "2025-01-23T08:19:49.858455Z",
     "iopub.status.busy": "2025-01-23T08:19:49.858059Z",
     "iopub.status.idle": "2025-01-23T08:19:49.884482Z",
     "shell.execute_reply": "2025-01-23T08:19:49.883189Z"
    },
    "papermill": {
     "duration": 0.033628,
     "end_time": "2025-01-23T08:19:49.886515",
     "exception": false,
     "start_time": "2025-01-23T08:19:49.852887",
     "status": "completed"
    },
    "tags": []
   },
   "outputs": [
    {
     "name": "stdout",
     "output_type": "stream",
     "text": [
      "<class 'pandas.core.frame.DataFrame'>\n",
      "RangeIndex: 1000 entries, 0 to 999\n",
      "Data columns (total 10 columns):\n",
      " #   Column                   Non-Null Count  Dtype  \n",
      "---  ------                   --------------  -----  \n",
      " 0   Number_of_Riders         1000 non-null   int64  \n",
      " 1   Number_of_Drivers        1000 non-null   int64  \n",
      " 2   Location_Category        1000 non-null   object \n",
      " 3   Customer_Loyalty_Status  1000 non-null   object \n",
      " 4   Number_of_Past_Rides     1000 non-null   int64  \n",
      " 5   Average_Ratings          1000 non-null   float64\n",
      " 6   Time_of_Booking          1000 non-null   object \n",
      " 7   Vehicle_Type             1000 non-null   object \n",
      " 8   Expected_Ride_Duration   1000 non-null   int64  \n",
      " 9   Historical_Cost_of_Ride  1000 non-null   float64\n",
      "dtypes: float64(2), int64(4), object(4)\n",
      "memory usage: 78.2+ KB\n"
     ]
    }
   ],
   "source": [
    "df.info()"
   ]
  },
  {
   "cell_type": "markdown",
   "id": "baa352fb",
   "metadata": {
    "papermill": {
     "duration": 0.00409,
     "end_time": "2025-01-23T08:19:49.895218",
     "exception": false,
     "start_time": "2025-01-23T08:19:49.891128",
     "status": "completed"
    },
    "tags": []
   },
   "source": [
    "Converting the types-"
   ]
  },
  {
   "cell_type": "code",
   "execution_count": 5,
   "id": "201728de",
   "metadata": {
    "execution": {
     "iopub.execute_input": "2025-01-23T08:19:49.905430Z",
     "iopub.status.busy": "2025-01-23T08:19:49.904991Z",
     "iopub.status.idle": "2025-01-23T08:19:49.924075Z",
     "shell.execute_reply": "2025-01-23T08:19:49.922732Z"
    },
    "papermill": {
     "duration": 0.026324,
     "end_time": "2025-01-23T08:19:49.926015",
     "exception": false,
     "start_time": "2025-01-23T08:19:49.899691",
     "status": "completed"
    },
    "tags": []
   },
   "outputs": [
    {
     "name": "stdout",
     "output_type": "stream",
     "text": [
      "<class 'pandas.core.frame.DataFrame'>\n",
      "RangeIndex: 1000 entries, 0 to 999\n",
      "Data columns (total 10 columns):\n",
      " #   Column                   Non-Null Count  Dtype   \n",
      "---  ------                   --------------  -----   \n",
      " 0   Number_of_Riders         1000 non-null   int64   \n",
      " 1   Number_of_Drivers        1000 non-null   int64   \n",
      " 2   Location_Category        1000 non-null   category\n",
      " 3   Customer_Loyalty_Status  1000 non-null   category\n",
      " 4   Number_of_Past_Rides     1000 non-null   int64   \n",
      " 5   Average_Ratings          1000 non-null   float64 \n",
      " 6   Time_of_Booking          1000 non-null   category\n",
      " 7   Vehicle_Type             1000 non-null   category\n",
      " 8   Expected_Ride_Duration   1000 non-null   int64   \n",
      " 9   Historical_Cost_of_Ride  1000 non-null   float64 \n",
      "dtypes: category(4), float64(2), int64(4)\n",
      "memory usage: 51.5 KB\n"
     ]
    }
   ],
   "source": [
    "df['Location_Category'] = df['Location_Category'].astype('category')\n",
    "df['Customer_Loyalty_Status'] = df['Customer_Loyalty_Status'].astype('category')\n",
    "df['Time_of_Booking'] = df['Time_of_Booking'].astype('category')\n",
    "df['Vehicle_Type'] = df['Vehicle_Type'].astype('category')\n",
    "\n",
    "df.info()"
   ]
  },
  {
   "cell_type": "code",
   "execution_count": 6,
   "id": "5170ead5",
   "metadata": {
    "execution": {
     "iopub.execute_input": "2025-01-23T08:19:49.936693Z",
     "iopub.status.busy": "2025-01-23T08:19:49.936324Z",
     "iopub.status.idle": "2025-01-23T08:19:50.283969Z",
     "shell.execute_reply": "2025-01-23T08:19:50.282849Z"
    },
    "papermill": {
     "duration": 0.354924,
     "end_time": "2025-01-23T08:19:50.285806",
     "exception": false,
     "start_time": "2025-01-23T08:19:49.930882",
     "status": "completed"
    },
    "tags": []
   },
   "outputs": [
    {
     "name": "stderr",
     "output_type": "stream",
     "text": [
      "/usr/local/lib/python3.10/dist-packages/seaborn/categorical.py:641: FutureWarning: The default of observed=False is deprecated and will be changed to True in a future version of pandas. Pass observed=False to retain current behavior or observed=True to adopt the future default and silence this warning.\n",
      "  grouped_vals = vals.groupby(grouper)\n"
     ]
    },
    {
     "data": {
      "text/plain": [
       "<function matplotlib.pyplot.show(close=None, block=None)>"
      ]
     },
     "execution_count": 6,
     "metadata": {},
     "output_type": "execute_result"
    },
    {
     "data": {
      "image/png": "[encoded data removed]",
      "text/plain": [
       "<Figure size 640x480 with 1 Axes>"
      ]
     },
     "metadata": {},
     "output_type": "display_data"
    }
   ],
   "source": [
    "sns.barplot(y = df['Number_of_Riders'], x = df['Location_Category'], data = df)\n",
    "plt.show"
   ]
  },
  {
   "cell_type": "markdown",
   "id": "e4d5fff5",
   "metadata": {
    "papermill": {
     "duration": 0.004834,
     "end_time": "2025-01-23T08:19:50.295907",
     "exception": false,
     "start_time": "2025-01-23T08:19:50.291073",
     "status": "completed"
    },
    "tags": []
   },
   "source": [
    "Creating a dynamic pricing logic(?)-"
   ]
  },
  {
   "cell_type": "code",
   "execution_count": 7,
   "id": "a2ce3089",
   "metadata": {
    "execution": {
     "iopub.execute_input": "2025-01-23T08:19:50.307243Z",
     "iopub.status.busy": "2025-01-23T08:19:50.306904Z",
     "iopub.status.idle": "2025-01-23T08:19:50.339765Z",
     "shell.execute_reply": "2025-01-23T08:19:50.338631Z"
    },
    "papermill": {
     "duration": 0.040496,
     "end_time": "2025-01-23T08:19:50.341446",
     "exception": false,
     "start_time": "2025-01-23T08:19:50.300950",
     "status": "completed"
    },
    "tags": []
   },
   "outputs": [
    {
     "data": {
      "text/html": [
       "<div>\n",
       "<style scoped>\n",
       "    .dataframe tbody tr th:only-of-type {\n",
       "        vertical-align: middle;\n",
       "    }\n",
       "\n",
       "    .dataframe tbody tr th {\n",
       "        vertical-align: top;\n",
       "    }\n",
       "\n",
       "    .dataframe thead th {\n",
       "        text-align: right;\n",
       "    }\n",
       "</style>\n",
       "<table border=\"1\" class=\"dataframe\">\n",
       "  <thead>\n",
       "    <tr style=\"text-align: right;\">\n",
       "      <th></th>\n",
       "      <th>Number_of_Riders</th>\n",
       "      <th>Number_of_Drivers</th>\n",
       "      <th>Number_of_Past_Rides</th>\n",
       "      <th>Average_Ratings</th>\n",
       "      <th>Expected_Ride_Duration</th>\n",
       "      <th>Historical_Cost_of_Ride</th>\n",
       "      <th>d_s_ratio</th>\n",
       "    </tr>\n",
       "  </thead>\n",
       "  <tbody>\n",
       "    <tr>\n",
       "      <th>count</th>\n",
       "      <td>1000.000000</td>\n",
       "      <td>1000.000000</td>\n",
       "      <td>1000.000000</td>\n",
       "      <td>1000.000000</td>\n",
       "      <td>1000.00000</td>\n",
       "      <td>1000.000000</td>\n",
       "      <td>1000.000000</td>\n",
       "    </tr>\n",
       "    <tr>\n",
       "      <th>mean</th>\n",
       "      <td>60.372000</td>\n",
       "      <td>27.076000</td>\n",
       "      <td>50.031000</td>\n",
       "      <td>4.257220</td>\n",
       "      <td>99.58800</td>\n",
       "      <td>372.502623</td>\n",
       "      <td>3.235270</td>\n",
       "    </tr>\n",
       "    <tr>\n",
       "      <th>std</th>\n",
       "      <td>23.701506</td>\n",
       "      <td>19.068346</td>\n",
       "      <td>29.313774</td>\n",
       "      <td>0.435781</td>\n",
       "      <td>49.16545</td>\n",
       "      <td>187.158756</td>\n",
       "      <td>2.533629</td>\n",
       "    </tr>\n",
       "    <tr>\n",
       "      <th>min</th>\n",
       "      <td>20.000000</td>\n",
       "      <td>5.000000</td>\n",
       "      <td>0.000000</td>\n",
       "      <td>3.500000</td>\n",
       "      <td>10.00000</td>\n",
       "      <td>25.993449</td>\n",
       "      <td>1.110000</td>\n",
       "    </tr>\n",
       "    <tr>\n",
       "      <th>25%</th>\n",
       "      <td>40.000000</td>\n",
       "      <td>11.000000</td>\n",
       "      <td>25.000000</td>\n",
       "      <td>3.870000</td>\n",
       "      <td>59.75000</td>\n",
       "      <td>221.365202</td>\n",
       "      <td>1.660000</td>\n",
       "    </tr>\n",
       "    <tr>\n",
       "      <th>50%</th>\n",
       "      <td>60.000000</td>\n",
       "      <td>22.000000</td>\n",
       "      <td>51.000000</td>\n",
       "      <td>4.270000</td>\n",
       "      <td>102.00000</td>\n",
       "      <td>362.019426</td>\n",
       "      <td>2.360000</td>\n",
       "    </tr>\n",
       "    <tr>\n",
       "      <th>75%</th>\n",
       "      <td>81.000000</td>\n",
       "      <td>38.000000</td>\n",
       "      <td>75.000000</td>\n",
       "      <td>4.632500</td>\n",
       "      <td>143.00000</td>\n",
       "      <td>510.497504</td>\n",
       "      <td>3.800000</td>\n",
       "    </tr>\n",
       "    <tr>\n",
       "      <th>max</th>\n",
       "      <td>100.000000</td>\n",
       "      <td>89.000000</td>\n",
       "      <td>100.000000</td>\n",
       "      <td>5.000000</td>\n",
       "      <td>180.00000</td>\n",
       "      <td>836.116419</td>\n",
       "      <td>17.600000</td>\n",
       "    </tr>\n",
       "  </tbody>\n",
       "</table>\n",
       "</div>"
      ],
      "text/plain": [
       "       Number_of_Riders  Number_of_Drivers  Number_of_Past_Rides  \\\n",
       "count       1000.000000        1000.000000           1000.000000   \n",
       "mean          60.372000          27.076000             50.031000   \n",
       "std           23.701506          19.068346             29.313774   \n",
       "min           20.000000           5.000000              0.000000   \n",
       "25%           40.000000          11.000000             25.000000   \n",
       "50%           60.000000          22.000000             51.000000   \n",
       "75%           81.000000          38.000000             75.000000   \n",
       "max          100.000000          89.000000            100.000000   \n",
       "\n",
       "       Average_Ratings  Expected_Ride_Duration  Historical_Cost_of_Ride  \\\n",
       "count      1000.000000              1000.00000              1000.000000   \n",
       "mean          4.257220                99.58800               372.502623   \n",
       "std           0.435781                49.16545               187.158756   \n",
       "min           3.500000                10.00000                25.993449   \n",
       "25%           3.870000                59.75000               221.365202   \n",
       "50%           4.270000               102.00000               362.019426   \n",
       "75%           4.632500               143.00000               510.497504   \n",
       "max           5.000000               180.00000               836.116419   \n",
       "\n",
       "         d_s_ratio  \n",
       "count  1000.000000  \n",
       "mean      3.235270  \n",
       "std       2.533629  \n",
       "min       1.110000  \n",
       "25%       1.660000  \n",
       "50%       2.360000  \n",
       "75%       3.800000  \n",
       "max      17.600000  "
      ]
     },
     "execution_count": 7,
     "metadata": {},
     "output_type": "execute_result"
    }
   ],
   "source": [
    "# Demand > Supply --> Price increase\n",
    "# Demand < Supply --> Price reduction\n",
    "import pandas as pd\n",
    "import numpy as np\n",
    "df = pd.read_csv('/kaggle/input/dynamic-pricing-dataset/dynamic_pricing.csv')\n",
    "df[\"d_s_ratio\"] = round(df[\"Number_of_Riders\"]/df[\"Number_of_Drivers\"], 2)       # d_s_ratio = Demand / Supply\n",
    "\n",
    "df.describe()"
   ]
  },
  {
   "cell_type": "code",
   "execution_count": 8,
   "id": "4d440862",
   "metadata": {
    "execution": {
     "iopub.execute_input": "2025-01-23T08:19:50.353701Z",
     "iopub.status.busy": "2025-01-23T08:19:50.353297Z",
     "iopub.status.idle": "2025-01-23T08:19:50.372448Z",
     "shell.execute_reply": "2025-01-23T08:19:50.371348Z"
    },
    "papermill": {
     "duration": 0.0274,
     "end_time": "2025-01-23T08:19:50.374293",
     "exception": false,
     "start_time": "2025-01-23T08:19:50.346893",
     "status": "completed"
    },
    "tags": []
   },
   "outputs": [
    {
     "data": {
      "text/html": [
       "<div>\n",
       "<style scoped>\n",
       "    .dataframe tbody tr th:only-of-type {\n",
       "        vertical-align: middle;\n",
       "    }\n",
       "\n",
       "    .dataframe tbody tr th {\n",
       "        vertical-align: top;\n",
       "    }\n",
       "\n",
       "    .dataframe thead th {\n",
       "        text-align: right;\n",
       "    }\n",
       "</style>\n",
       "<table border=\"1\" class=\"dataframe\">\n",
       "  <thead>\n",
       "    <tr style=\"text-align: right;\">\n",
       "      <th></th>\n",
       "      <th>Number_of_Riders</th>\n",
       "      <th>Number_of_Drivers</th>\n",
       "      <th>Location_Category</th>\n",
       "      <th>Customer_Loyalty_Status</th>\n",
       "      <th>Number_of_Past_Rides</th>\n",
       "      <th>Average_Ratings</th>\n",
       "      <th>Time_of_Booking</th>\n",
       "      <th>Vehicle_Type</th>\n",
       "      <th>Expected_Ride_Duration</th>\n",
       "      <th>Historical_Cost_of_Ride</th>\n",
       "      <th>d_s_ratio</th>\n",
       "      <th>demand_class</th>\n",
       "      <th>supply_class</th>\n",
       "    </tr>\n",
       "  </thead>\n",
       "  <tbody>\n",
       "    <tr>\n",
       "      <th>0</th>\n",
       "      <td>90</td>\n",
       "      <td>45</td>\n",
       "      <td>Urban</td>\n",
       "      <td>Silver</td>\n",
       "      <td>13</td>\n",
       "      <td>4.47</td>\n",
       "      <td>Night</td>\n",
       "      <td>Premium</td>\n",
       "      <td>90</td>\n",
       "      <td>284.257273</td>\n",
       "      <td>2.00</td>\n",
       "      <td>High_demand</td>\n",
       "      <td>High_supply</td>\n",
       "    </tr>\n",
       "    <tr>\n",
       "      <th>1</th>\n",
       "      <td>58</td>\n",
       "      <td>39</td>\n",
       "      <td>Suburban</td>\n",
       "      <td>Silver</td>\n",
       "      <td>72</td>\n",
       "      <td>4.06</td>\n",
       "      <td>Evening</td>\n",
       "      <td>Economy</td>\n",
       "      <td>43</td>\n",
       "      <td>173.874753</td>\n",
       "      <td>1.49</td>\n",
       "      <td>Low_demand</td>\n",
       "      <td>High_supply</td>\n",
       "    </tr>\n",
       "    <tr>\n",
       "      <th>2</th>\n",
       "      <td>42</td>\n",
       "      <td>31</td>\n",
       "      <td>Rural</td>\n",
       "      <td>Silver</td>\n",
       "      <td>0</td>\n",
       "      <td>3.99</td>\n",
       "      <td>Afternoon</td>\n",
       "      <td>Premium</td>\n",
       "      <td>76</td>\n",
       "      <td>329.795469</td>\n",
       "      <td>1.35</td>\n",
       "      <td>Low_demand</td>\n",
       "      <td>Low_supply</td>\n",
       "    </tr>\n",
       "    <tr>\n",
       "      <th>3</th>\n",
       "      <td>89</td>\n",
       "      <td>28</td>\n",
       "      <td>Rural</td>\n",
       "      <td>Regular</td>\n",
       "      <td>67</td>\n",
       "      <td>4.31</td>\n",
       "      <td>Afternoon</td>\n",
       "      <td>Premium</td>\n",
       "      <td>134</td>\n",
       "      <td>470.201232</td>\n",
       "      <td>3.18</td>\n",
       "      <td>High_demand</td>\n",
       "      <td>Low_supply</td>\n",
       "    </tr>\n",
       "    <tr>\n",
       "      <th>4</th>\n",
       "      <td>78</td>\n",
       "      <td>22</td>\n",
       "      <td>Rural</td>\n",
       "      <td>Regular</td>\n",
       "      <td>74</td>\n",
       "      <td>3.77</td>\n",
       "      <td>Afternoon</td>\n",
       "      <td>Economy</td>\n",
       "      <td>149</td>\n",
       "      <td>579.681422</td>\n",
       "      <td>3.55</td>\n",
       "      <td>Low_demand</td>\n",
       "      <td>Low_supply</td>\n",
       "    </tr>\n",
       "  </tbody>\n",
       "</table>\n",
       "</div>"
      ],
      "text/plain": [
       "   Number_of_Riders  Number_of_Drivers Location_Category  \\\n",
       "0                90                 45             Urban   \n",
       "1                58                 39          Suburban   \n",
       "2                42                 31             Rural   \n",
       "3                89                 28             Rural   \n",
       "4                78                 22             Rural   \n",
       "\n",
       "  Customer_Loyalty_Status  Number_of_Past_Rides  Average_Ratings  \\\n",
       "0                  Silver                    13             4.47   \n",
       "1                  Silver                    72             4.06   \n",
       "2                  Silver                     0             3.99   \n",
       "3                 Regular                    67             4.31   \n",
       "4                 Regular                    74             3.77   \n",
       "\n",
       "  Time_of_Booking Vehicle_Type  Expected_Ride_Duration  \\\n",
       "0           Night      Premium                      90   \n",
       "1         Evening      Economy                      43   \n",
       "2       Afternoon      Premium                      76   \n",
       "3       Afternoon      Premium                     134   \n",
       "4       Afternoon      Economy                     149   \n",
       "\n",
       "   Historical_Cost_of_Ride  d_s_ratio demand_class supply_class  \n",
       "0               284.257273       2.00  High_demand  High_supply  \n",
       "1               173.874753       1.49   Low_demand  High_supply  \n",
       "2               329.795469       1.35   Low_demand   Low_supply  \n",
       "3               470.201232       3.18  High_demand   Low_supply  \n",
       "4               579.681422       3.55   Low_demand   Low_supply  "
      ]
     },
     "execution_count": 8,
     "metadata": {},
     "output_type": "execute_result"
    }
   ],
   "source": [
    "df[\"demand_class\"] = np.where(df[\"Number_of_Riders\"]>np.percentile(df[\"Number_of_Riders\"], 75), \n",
    "                               \"High_demand\", \"Low_demand\")\n",
    "\n",
    "df[\"supply_class\"] = np.where(df[\"Number_of_Drivers\"]>np.percentile(df[\"Number_of_Drivers\"], 75), \n",
    "                               \"High_supply\", \"Low_supply\")\n",
    "\n",
    "df.head()"
   ]
  },
  {
   "cell_type": "code",
   "execution_count": 9,
   "id": "75d35fde",
   "metadata": {
    "execution": {
     "iopub.execute_input": "2025-01-23T08:19:50.387789Z",
     "iopub.status.busy": "2025-01-23T08:19:50.387362Z",
     "iopub.status.idle": "2025-01-23T08:19:50.408477Z",
     "shell.execute_reply": "2025-01-23T08:19:50.407337Z"
    },
    "papermill": {
     "duration": 0.030458,
     "end_time": "2025-01-23T08:19:50.410407",
     "exception": false,
     "start_time": "2025-01-23T08:19:50.379949",
     "status": "completed"
    },
    "tags": []
   },
   "outputs": [
    {
     "data": {
      "text/html": [
       "<div>\n",
       "<style scoped>\n",
       "    .dataframe tbody tr th:only-of-type {\n",
       "        vertical-align: middle;\n",
       "    }\n",
       "\n",
       "    .dataframe tbody tr th {\n",
       "        vertical-align: top;\n",
       "    }\n",
       "\n",
       "    .dataframe thead th {\n",
       "        text-align: right;\n",
       "    }\n",
       "</style>\n",
       "<table border=\"1\" class=\"dataframe\">\n",
       "  <thead>\n",
       "    <tr style=\"text-align: right;\">\n",
       "      <th></th>\n",
       "      <th>Number_of_Riders</th>\n",
       "      <th>Number_of_Drivers</th>\n",
       "      <th>Location_Category</th>\n",
       "      <th>Customer_Loyalty_Status</th>\n",
       "      <th>Number_of_Past_Rides</th>\n",
       "      <th>Average_Ratings</th>\n",
       "      <th>Time_of_Booking</th>\n",
       "      <th>Vehicle_Type</th>\n",
       "      <th>Expected_Ride_Duration</th>\n",
       "      <th>Historical_Cost_of_Ride</th>\n",
       "      <th>d_s_ratio</th>\n",
       "      <th>demand_class</th>\n",
       "      <th>supply_class</th>\n",
       "      <th>demand_metric</th>\n",
       "      <th>supply_metric</th>\n",
       "    </tr>\n",
       "  </thead>\n",
       "  <tbody>\n",
       "    <tr>\n",
       "      <th>0</th>\n",
       "      <td>90</td>\n",
       "      <td>45</td>\n",
       "      <td>Urban</td>\n",
       "      <td>Silver</td>\n",
       "      <td>13</td>\n",
       "      <td>4.47</td>\n",
       "      <td>Night</td>\n",
       "      <td>Premium</td>\n",
       "      <td>90</td>\n",
       "      <td>284.257273</td>\n",
       "      <td>2.00</td>\n",
       "      <td>High_demand</td>\n",
       "      <td>High_supply</td>\n",
       "      <td>1.111111</td>\n",
       "      <td>1.184211</td>\n",
       "    </tr>\n",
       "    <tr>\n",
       "      <th>1</th>\n",
       "      <td>58</td>\n",
       "      <td>39</td>\n",
       "      <td>Suburban</td>\n",
       "      <td>Silver</td>\n",
       "      <td>72</td>\n",
       "      <td>4.06</td>\n",
       "      <td>Evening</td>\n",
       "      <td>Economy</td>\n",
       "      <td>43</td>\n",
       "      <td>173.874753</td>\n",
       "      <td>1.49</td>\n",
       "      <td>Low_demand</td>\n",
       "      <td>High_supply</td>\n",
       "      <td>1.450000</td>\n",
       "      <td>1.026316</td>\n",
       "    </tr>\n",
       "    <tr>\n",
       "      <th>2</th>\n",
       "      <td>42</td>\n",
       "      <td>31</td>\n",
       "      <td>Rural</td>\n",
       "      <td>Silver</td>\n",
       "      <td>0</td>\n",
       "      <td>3.99</td>\n",
       "      <td>Afternoon</td>\n",
       "      <td>Premium</td>\n",
       "      <td>76</td>\n",
       "      <td>329.795469</td>\n",
       "      <td>1.35</td>\n",
       "      <td>Low_demand</td>\n",
       "      <td>Low_supply</td>\n",
       "      <td>1.050000</td>\n",
       "      <td>2.818182</td>\n",
       "    </tr>\n",
       "    <tr>\n",
       "      <th>3</th>\n",
       "      <td>89</td>\n",
       "      <td>28</td>\n",
       "      <td>Rural</td>\n",
       "      <td>Regular</td>\n",
       "      <td>67</td>\n",
       "      <td>4.31</td>\n",
       "      <td>Afternoon</td>\n",
       "      <td>Premium</td>\n",
       "      <td>134</td>\n",
       "      <td>470.201232</td>\n",
       "      <td>3.18</td>\n",
       "      <td>High_demand</td>\n",
       "      <td>Low_supply</td>\n",
       "      <td>1.098765</td>\n",
       "      <td>2.545455</td>\n",
       "    </tr>\n",
       "    <tr>\n",
       "      <th>4</th>\n",
       "      <td>78</td>\n",
       "      <td>22</td>\n",
       "      <td>Rural</td>\n",
       "      <td>Regular</td>\n",
       "      <td>74</td>\n",
       "      <td>3.77</td>\n",
       "      <td>Afternoon</td>\n",
       "      <td>Economy</td>\n",
       "      <td>149</td>\n",
       "      <td>579.681422</td>\n",
       "      <td>3.55</td>\n",
       "      <td>Low_demand</td>\n",
       "      <td>Low_supply</td>\n",
       "      <td>1.950000</td>\n",
       "      <td>2.000000</td>\n",
       "    </tr>\n",
       "  </tbody>\n",
       "</table>\n",
       "</div>"
      ],
      "text/plain": [
       "   Number_of_Riders  Number_of_Drivers Location_Category  \\\n",
       "0                90                 45             Urban   \n",
       "1                58                 39          Suburban   \n",
       "2                42                 31             Rural   \n",
       "3                89                 28             Rural   \n",
       "4                78                 22             Rural   \n",
       "\n",
       "  Customer_Loyalty_Status  Number_of_Past_Rides  Average_Ratings  \\\n",
       "0                  Silver                    13             4.47   \n",
       "1                  Silver                    72             4.06   \n",
       "2                  Silver                     0             3.99   \n",
       "3                 Regular                    67             4.31   \n",
       "4                 Regular                    74             3.77   \n",
       "\n",
       "  Time_of_Booking Vehicle_Type  Expected_Ride_Duration  \\\n",
       "0           Night      Premium                      90   \n",
       "1         Evening      Economy                      43   \n",
       "2       Afternoon      Premium                      76   \n",
       "3       Afternoon      Premium                     134   \n",
       "4       Afternoon      Economy                     149   \n",
       "\n",
       "   Historical_Cost_of_Ride  d_s_ratio demand_class supply_class  \\\n",
       "0               284.257273       2.00  High_demand  High_supply   \n",
       "1               173.874753       1.49   Low_demand  High_supply   \n",
       "2               329.795469       1.35   Low_demand   Low_supply   \n",
       "3               470.201232       3.18  High_demand   Low_supply   \n",
       "4               579.681422       3.55   Low_demand   Low_supply   \n",
       "\n",
       "   demand_metric  supply_metric  \n",
       "0       1.111111       1.184211  \n",
       "1       1.450000       1.026316  \n",
       "2       1.050000       2.818182  \n",
       "3       1.098765       2.545455  \n",
       "4       1.950000       2.000000  "
      ]
     },
     "execution_count": 9,
     "metadata": {},
     "output_type": "execute_result"
    }
   ],
   "source": [
    "df[\"demand_metric\"] = np.where(df[\"demand_class\"]==\"High_demand\", \n",
    "                               df[\"Number_of_Riders\"] / np.percentile(df[\"Number_of_Riders\"], 75),\n",
    "                               df[\"Number_of_Riders\"] / np.percentile(df[\"Number_of_Riders\"], 25))\n",
    "\n",
    "df[\"supply_metric\"] = np.where(df[\"supply_class\"]==\"High_supply\", \n",
    "                               df[\"Number_of_Drivers\"] / np.percentile(df[\"Number_of_Drivers\"], 75),\n",
    "                               df[\"Number_of_Drivers\"] / np.percentile(df[\"Number_of_Drivers\"], 25))\n",
    "\n",
    "df.head()"
   ]
  },
  {
   "cell_type": "code",
   "execution_count": 10,
   "id": "ef0eccbd",
   "metadata": {
    "execution": {
     "iopub.execute_input": "2025-01-23T08:19:50.423851Z",
     "iopub.status.busy": "2025-01-23T08:19:50.423464Z",
     "iopub.status.idle": "2025-01-23T08:19:50.448558Z",
     "shell.execute_reply": "2025-01-23T08:19:50.447493Z"
    },
    "papermill": {
     "duration": 0.034011,
     "end_time": "2025-01-23T08:19:50.450564",
     "exception": false,
     "start_time": "2025-01-23T08:19:50.416553",
     "status": "completed"
    },
    "tags": []
   },
   "outputs": [
    {
     "data": {
      "text/html": [
       "<div>\n",
       "<style scoped>\n",
       "    .dataframe tbody tr th:only-of-type {\n",
       "        vertical-align: middle;\n",
       "    }\n",
       "\n",
       "    .dataframe tbody tr th {\n",
       "        vertical-align: top;\n",
       "    }\n",
       "\n",
       "    .dataframe thead th {\n",
       "        text-align: right;\n",
       "    }\n",
       "</style>\n",
       "<table border=\"1\" class=\"dataframe\">\n",
       "  <thead>\n",
       "    <tr style=\"text-align: right;\">\n",
       "      <th></th>\n",
       "      <th>Number_of_Riders</th>\n",
       "      <th>Number_of_Drivers</th>\n",
       "      <th>Location_Category</th>\n",
       "      <th>Customer_Loyalty_Status</th>\n",
       "      <th>Number_of_Past_Rides</th>\n",
       "      <th>Average_Ratings</th>\n",
       "      <th>Time_of_Booking</th>\n",
       "      <th>Vehicle_Type</th>\n",
       "      <th>Expected_Ride_Duration</th>\n",
       "      <th>Historical_Cost_of_Ride</th>\n",
       "      <th>d_s_ratio</th>\n",
       "      <th>demand_class</th>\n",
       "      <th>supply_class</th>\n",
       "      <th>demand_metric</th>\n",
       "      <th>supply_metric</th>\n",
       "      <th>correction_metric</th>\n",
       "      <th>corrected_cost</th>\n",
       "    </tr>\n",
       "  </thead>\n",
       "  <tbody>\n",
       "    <tr>\n",
       "      <th>0</th>\n",
       "      <td>90</td>\n",
       "      <td>45</td>\n",
       "      <td>Urban</td>\n",
       "      <td>Silver</td>\n",
       "      <td>13</td>\n",
       "      <td>4.47</td>\n",
       "      <td>Night</td>\n",
       "      <td>Premium</td>\n",
       "      <td>90</td>\n",
       "      <td>284.257273</td>\n",
       "      <td>0.938272</td>\n",
       "      <td>High_demand</td>\n",
       "      <td>High_supply</td>\n",
       "      <td>1.111111</td>\n",
       "      <td>1.184211</td>\n",
       "      <td>0.000000</td>\n",
       "      <td>284.257273</td>\n",
       "    </tr>\n",
       "    <tr>\n",
       "      <th>1</th>\n",
       "      <td>58</td>\n",
       "      <td>39</td>\n",
       "      <td>Suburban</td>\n",
       "      <td>Silver</td>\n",
       "      <td>72</td>\n",
       "      <td>4.06</td>\n",
       "      <td>Evening</td>\n",
       "      <td>Economy</td>\n",
       "      <td>43</td>\n",
       "      <td>173.874753</td>\n",
       "      <td>1.412821</td>\n",
       "      <td>Low_demand</td>\n",
       "      <td>High_supply</td>\n",
       "      <td>1.450000</td>\n",
       "      <td>1.026316</td>\n",
       "      <td>0.262821</td>\n",
       "      <td>219.572604</td>\n",
       "    </tr>\n",
       "    <tr>\n",
       "      <th>2</th>\n",
       "      <td>42</td>\n",
       "      <td>31</td>\n",
       "      <td>Rural</td>\n",
       "      <td>Silver</td>\n",
       "      <td>0</td>\n",
       "      <td>3.99</td>\n",
       "      <td>Afternoon</td>\n",
       "      <td>Premium</td>\n",
       "      <td>76</td>\n",
       "      <td>329.795469</td>\n",
       "      <td>0.372581</td>\n",
       "      <td>Low_demand</td>\n",
       "      <td>Low_supply</td>\n",
       "      <td>1.050000</td>\n",
       "      <td>2.818182</td>\n",
       "      <td>0.477419</td>\n",
       "      <td>172.344729</td>\n",
       "    </tr>\n",
       "    <tr>\n",
       "      <th>3</th>\n",
       "      <td>89</td>\n",
       "      <td>28</td>\n",
       "      <td>Rural</td>\n",
       "      <td>Regular</td>\n",
       "      <td>67</td>\n",
       "      <td>4.31</td>\n",
       "      <td>Afternoon</td>\n",
       "      <td>Premium</td>\n",
       "      <td>134</td>\n",
       "      <td>470.201232</td>\n",
       "      <td>0.431658</td>\n",
       "      <td>High_demand</td>\n",
       "      <td>Low_supply</td>\n",
       "      <td>1.098765</td>\n",
       "      <td>2.545455</td>\n",
       "      <td>0.418342</td>\n",
       "      <td>273.496237</td>\n",
       "    </tr>\n",
       "    <tr>\n",
       "      <th>4</th>\n",
       "      <td>78</td>\n",
       "      <td>22</td>\n",
       "      <td>Rural</td>\n",
       "      <td>Regular</td>\n",
       "      <td>74</td>\n",
       "      <td>3.77</td>\n",
       "      <td>Afternoon</td>\n",
       "      <td>Economy</td>\n",
       "      <td>149</td>\n",
       "      <td>579.681422</td>\n",
       "      <td>0.975000</td>\n",
       "      <td>Low_demand</td>\n",
       "      <td>Low_supply</td>\n",
       "      <td>1.950000</td>\n",
       "      <td>2.000000</td>\n",
       "      <td>0.000000</td>\n",
       "      <td>579.681422</td>\n",
       "    </tr>\n",
       "  </tbody>\n",
       "</table>\n",
       "</div>"
      ],
      "text/plain": [
       "   Number_of_Riders  Number_of_Drivers Location_Category  \\\n",
       "0                90                 45             Urban   \n",
       "1                58                 39          Suburban   \n",
       "2                42                 31             Rural   \n",
       "3                89                 28             Rural   \n",
       "4                78                 22             Rural   \n",
       "\n",
       "  Customer_Loyalty_Status  Number_of_Past_Rides  Average_Ratings  \\\n",
       "0                  Silver                    13             4.47   \n",
       "1                  Silver                    72             4.06   \n",
       "2                  Silver                     0             3.99   \n",
       "3                 Regular                    67             4.31   \n",
       "4                 Regular                    74             3.77   \n",
       "\n",
       "  Time_of_Booking Vehicle_Type  Expected_Ride_Duration  \\\n",
       "0           Night      Premium                      90   \n",
       "1         Evening      Economy                      43   \n",
       "2       Afternoon      Premium                      76   \n",
       "3       Afternoon      Premium                     134   \n",
       "4       Afternoon      Economy                     149   \n",
       "\n",
       "   Historical_Cost_of_Ride  d_s_ratio demand_class supply_class  \\\n",
       "0               284.257273   0.938272  High_demand  High_supply   \n",
       "1               173.874753   1.412821   Low_demand  High_supply   \n",
       "2               329.795469   0.372581   Low_demand   Low_supply   \n",
       "3               470.201232   0.431658  High_demand   Low_supply   \n",
       "4               579.681422   0.975000   Low_demand   Low_supply   \n",
       "\n",
       "   demand_metric  supply_metric  correction_metric  corrected_cost  \n",
       "0       1.111111       1.184211           0.000000      284.257273  \n",
       "1       1.450000       1.026316           0.262821      219.572604  \n",
       "2       1.050000       2.818182           0.477419      172.344729  \n",
       "3       1.098765       2.545455           0.418342      273.496237  \n",
       "4       1.950000       2.000000           0.000000      579.681422  "
      ]
     },
     "execution_count": 10,
     "metadata": {},
     "output_type": "execute_result"
    }
   ],
   "source": [
    "import numpy as np\n",
    "\n",
    "# Calculate demand-to-supply ratio\n",
    "df['d_s_ratio'] = df['demand_metric'] / df['supply_metric']\n",
    "\n",
    "# Set cutoff values for high and low demand situations\n",
    "high_demand_cut_off = 1.15  # High demand, low supply (Demand > Supply)\n",
    "low_demand_cut_off = 0.85   # Low demand, high supply (Supply > Demand)\n",
    "\n",
    "\n",
    "# Define correction metric based on demand-supply ratio\n",
    "df[\"correction_metric\"] = np.where(df[\"d_s_ratio\"] > high_demand_cut_off,  # Demand > Supply\n",
    "                                   abs(df[\"d_s_ratio\"] - high_demand_cut_off),  # Increase price\n",
    "                                   np.where(df[\"d_s_ratio\"] < low_demand_cut_off,  # Supply > Demand\n",
    "                                            abs(df[\"d_s_ratio\"] - low_demand_cut_off),  # Decrease price\n",
    "                                            0))  # No significant change if within the range\n",
    "\n",
    "# Adjust the ride cost based on demand and supply condition\n",
    "df[\"corrected_cost\"] = np.where(df[\"d_s_ratio\"] > high_demand_cut_off,  # Demand > Supply\n",
    "                                df[\"Historical_Cost_of_Ride\"] * (1 + df[\"correction_metric\"]),  # Price increase\n",
    "                                np.where(df[\"d_s_ratio\"] < low_demand_cut_off,  # Supply > Demand\n",
    "                                         df[\"Historical_Cost_of_Ride\"] * (1 - df[\"correction_metric\"]),  # Price decrease\n",
    "                                         df[\"Historical_Cost_of_Ride\"]))  # No change if balanced\n",
    "\n",
    "df.head()"
   ]
  },
  {
   "cell_type": "markdown",
   "id": "6376f5d5",
   "metadata": {
    "papermill": {
     "duration": 0.005911,
     "end_time": "2025-01-23T08:19:50.462711",
     "exception": false,
     "start_time": "2025-01-23T08:19:50.456800",
     "status": "completed"
    },
    "tags": []
   },
   "source": [
    "Ml-"
   ]
  },
  {
   "cell_type": "code",
   "execution_count": 11,
   "id": "062c8123",
   "metadata": {
    "execution": {
     "iopub.execute_input": "2025-01-23T08:19:50.476627Z",
     "iopub.status.busy": "2025-01-23T08:19:50.476211Z",
     "iopub.status.idle": "2025-01-23T08:19:50.787610Z",
     "shell.execute_reply": "2025-01-23T08:19:50.786306Z"
    },
    "papermill": {
     "duration": 0.320571,
     "end_time": "2025-01-23T08:19:50.789675",
     "exception": false,
     "start_time": "2025-01-23T08:19:50.469104",
     "status": "completed"
    },
    "tags": []
   },
   "outputs": [],
   "source": [
    "from sklearn.model_selection import train_test_split\n",
    "from sklearn.preprocessing import OneHotEncoder"
   ]
  },
  {
   "cell_type": "code",
   "execution_count": 12,
   "id": "d146f515",
   "metadata": {
    "execution": {
     "iopub.execute_input": "2025-01-23T08:19:50.805382Z",
     "iopub.status.busy": "2025-01-23T08:19:50.804980Z",
     "iopub.status.idle": "2025-01-23T08:19:50.814626Z",
     "shell.execute_reply": "2025-01-23T08:19:50.813579Z"
    },
    "papermill": {
     "duration": 0.018813,
     "end_time": "2025-01-23T08:19:50.816347",
     "exception": false,
     "start_time": "2025-01-23T08:19:50.797534",
     "status": "completed"
    },
    "tags": []
   },
   "outputs": [],
   "source": [
    "X = df.drop(['corrected_cost'], axis = 1)\n",
    "y = df['corrected_cost']"
   ]
  },
  {
   "cell_type": "code",
   "execution_count": 13,
   "id": "3715c6e3",
   "metadata": {
    "execution": {
     "iopub.execute_input": "2025-01-23T08:19:50.830430Z",
     "iopub.status.busy": "2025-01-23T08:19:50.830029Z",
     "iopub.status.idle": "2025-01-23T08:19:50.886520Z",
     "shell.execute_reply": "2025-01-23T08:19:50.885581Z"
    },
    "papermill": {
     "duration": 0.06565,
     "end_time": "2025-01-23T08:19:50.888482",
     "exception": false,
     "start_time": "2025-01-23T08:19:50.822832",
     "status": "completed"
    },
    "tags": []
   },
   "outputs": [],
   "source": [
    "encoder = OneHotEncoder()\n",
    "X = encoder.fit_transform(X).toarray()"
   ]
  },
  {
   "cell_type": "code",
   "execution_count": 14,
   "id": "f5eeb286",
   "metadata": {
    "execution": {
     "iopub.execute_input": "2025-01-23T08:19:50.902550Z",
     "iopub.status.busy": "2025-01-23T08:19:50.902158Z",
     "iopub.status.idle": "2025-01-23T08:19:50.923948Z",
     "shell.execute_reply": "2025-01-23T08:19:50.922894Z"
    },
    "papermill": {
     "duration": 0.03101,
     "end_time": "2025-01-23T08:19:50.926043",
     "exception": false,
     "start_time": "2025-01-23T08:19:50.895033",
     "status": "completed"
    },
    "tags": []
   },
   "outputs": [],
   "source": [
    "train_X, test_X, train_y, test_y = train_test_split(X, y, test_size=0.25, random_state = 2)"
   ]
  },
  {
   "cell_type": "code",
   "execution_count": 15,
   "id": "6923d251",
   "metadata": {
    "execution": {
     "iopub.execute_input": "2025-01-23T08:19:50.940628Z",
     "iopub.status.busy": "2025-01-23T08:19:50.940152Z",
     "iopub.status.idle": "2025-01-23T08:19:50.944432Z",
     "shell.execute_reply": "2025-01-23T08:19:50.943366Z"
    },
    "papermill": {
     "duration": 0.013894,
     "end_time": "2025-01-23T08:19:50.946417",
     "exception": false,
     "start_time": "2025-01-23T08:19:50.932523",
     "status": "completed"
    },
    "tags": []
   },
   "outputs": [],
   "source": [
    "#encoder = OneHotEncoder()\n",
    "#X = encoder.fit_transform(X).toarray()\n",
    "#test_X = encoder.fit_transform(test_X).toarray()"
   ]
  },
  {
   "cell_type": "code",
   "execution_count": 16,
   "id": "a600ab3a",
   "metadata": {
    "execution": {
     "iopub.execute_input": "2025-01-23T08:19:50.960732Z",
     "iopub.status.busy": "2025-01-23T08:19:50.960259Z",
     "iopub.status.idle": "2025-01-23T08:19:52.860397Z",
     "shell.execute_reply": "2025-01-23T08:19:52.859444Z"
    },
    "papermill": {
     "duration": 1.909258,
     "end_time": "2025-01-23T08:19:52.862359",
     "exception": false,
     "start_time": "2025-01-23T08:19:50.953101",
     "status": "completed"
    },
    "tags": []
   },
   "outputs": [
    {
     "name": "stderr",
     "output_type": "stream",
     "text": [
      "/usr/local/lib/python3.10/dist-packages/xgboost/sklearn.py:889: UserWarning: `early_stopping_rounds` in `fit` method is deprecated for better compatibility with scikit-learn, use `early_stopping_rounds` in constructor or`set_params` instead.\n",
      "  warnings.warn(\n"
     ]
    },
    {
     "data": {
      "text/html": [
       "<style>#sk-container-id-1 {color: black;background-color: white;}#sk-container-id-1 pre{padding: 0;}#sk-container-id-1 div.sk-toggleable {background-color: white;}#sk-container-id-1 label.sk-toggleable__label {cursor: pointer;display: block;width: 100%;margin-bottom: 0;padding: 0.3em;box-sizing: border-box;text-align: center;}#sk-container-id-1 label.sk-toggleable__label-arrow:before {content: \"▸\";float: left;margin-right: 0.25em;color: #696969;}#sk-container-id-1 label.sk-toggleable__label-arrow:hover:before {color: black;}#sk-container-id-1 div.sk-estimator:hover label.sk-toggleable__label-arrow:before {color: black;}#sk-container-id-1 div.sk-toggleable__content {max-height: 0;max-width: 0;overflow: hidden;text-align: left;background-color: #f0f8ff;}#sk-container-id-1 div.sk-toggleable__content pre {margin: 0.2em;color: black;border-radius: 0.25em;background-color: #f0f8ff;}#sk-container-id-1 input.sk-toggleable__control:checked~div.sk-toggleable__content {max-height: 200px;max-width: 100%;overflow: auto;}#sk-container-id-1 input.sk-toggleable__control:checked~label.sk-toggleable__label-arrow:before {content: \"▾\";}#sk-container-id-1 div.sk-estimator input.sk-toggleable__control:checked~label.sk-toggleable__label {background-color: #d4ebff;}#sk-container-id-1 div.sk-label input.sk-toggleable__control:checked~label.sk-toggleable__label {background-color: #d4ebff;}#sk-container-id-1 input.sk-hidden--visually {border: 0;clip: rect(1px 1px 1px 1px);clip: rect(1px, 1px, 1px, 1px);height: 1px;margin: -1px;overflow: hidden;padding: 0;position: absolute;width: 1px;}#sk-container-id-1 div.sk-estimator {font-family: monospace;background-color: #f0f8ff;border: 1px dotted black;border-radius: 0.25em;box-sizing: border-box;margin-bottom: 0.5em;}#sk-container-id-1 div.sk-estimator:hover {background-color: #d4ebff;}#sk-container-id-1 div.sk-parallel-item::after {content: \"\";width: 100%;border-bottom: 1px solid gray;flex-grow: 1;}#sk-container-id-1 div.sk-label:hover label.sk-toggleable__label {background-color: #d4ebff;}#sk-container-id-1 div.sk-serial::before {content: \"\";position: absolute;border-left: 1px solid gray;box-sizing: border-box;top: 0;bottom: 0;left: 50%;z-index: 0;}#sk-container-id-1 div.sk-serial {display: flex;flex-direction: column;align-items: center;background-color: white;padding-right: 0.2em;padding-left: 0.2em;position: relative;}#sk-container-id-1 div.sk-item {position: relative;z-index: 1;}#sk-container-id-1 div.sk-parallel {display: flex;align-items: stretch;justify-content: center;background-color: white;position: relative;}#sk-container-id-1 div.sk-item::before, #sk-container-id-1 div.sk-parallel-item::before {content: \"\";position: absolute;border-left: 1px solid gray;box-sizing: border-box;top: 0;bottom: 0;left: 50%;z-index: -1;}#sk-container-id-1 div.sk-parallel-item {display: flex;flex-direction: column;z-index: 1;position: relative;background-color: white;}#sk-container-id-1 div.sk-parallel-item:first-child::after {align-self: flex-end;width: 50%;}#sk-container-id-1 div.sk-parallel-item:last-child::after {align-self: flex-start;width: 50%;}#sk-container-id-1 div.sk-parallel-item:only-child::after {width: 0;}#sk-container-id-1 div.sk-dashed-wrapped {border: 1px dashed gray;margin: 0 0.4em 0.5em 0.4em;box-sizing: border-box;padding-bottom: 0.4em;background-color: white;}#sk-container-id-1 div.sk-label label {font-family: monospace;font-weight: bold;display: inline-block;line-height: 1.2em;}#sk-container-id-1 div.sk-label-container {text-align: center;}#sk-container-id-1 div.sk-container {/* jupyter's `normalize.less` sets `[hidden] { display: none; }` but bootstrap.min.css set `[hidden] { display: none !important; }` so we also need the `!important` here to be able to override the default hidden behavior on the sphinx rendered scikit-learn.org. See: https://github.com/scikit-learn/scikit-learn/issues/21755 */display: inline-block !important;position: relative;}#sk-container-id-1 div.sk-text-repr-fallback {display: none;}</style><div id=\"sk-container-id-1\" class=\"sk-top-container\"><div class=\"sk-text-repr-fallback\"><pre>XGBRegressor(base_score=None, booster=None, callbacks=None,\n",
       "             colsample_bylevel=None, colsample_bynode=None,\n",
       "             colsample_bytree=None, device=None, early_stopping_rounds=None,\n",
       "             enable_categorical=False, eval_metric=None, feature_types=None,\n",
       "             gamma=None, grow_policy=None, importance_type=None,\n",
       "             interaction_constraints=None, learning_rate=0.05, max_bin=None,\n",
       "             max_cat_threshold=None, max_cat_to_onehot=None,\n",
       "             max_delta_step=None, max_depth=None, max_leaves=None,\n",
       "             min_child_weight=None, missing=nan, monotone_constraints=None,\n",
       "             multi_strategy=None, n_estimators=1000, n_jobs=None,\n",
       "             num_parallel_tree=None, random_state=None, ...)</pre><b>In a Jupyter environment, please rerun this cell to show the HTML representation or trust the notebook. <br />On GitHub, the HTML representation is unable to render, please try loading this page with nbviewer.org.</b></div><div class=\"sk-container\" hidden><div class=\"sk-item\"><div class=\"sk-estimator sk-toggleable\"><input class=\"sk-toggleable__control sk-hidden--visually\" id=\"sk-estimator-id-1\" type=\"checkbox\" checked><label for=\"sk-estimator-id-1\" class=\"sk-toggleable__label sk-toggleable__label-arrow\">XGBRegressor</label><div class=\"sk-toggleable__content\"><pre>XGBRegressor(base_score=None, booster=None, callbacks=None,\n",
       "             colsample_bylevel=None, colsample_bynode=None,\n",
       "             colsample_bytree=None, device=None, early_stopping_rounds=None,\n",
       "             enable_categorical=False, eval_metric=None, feature_types=None,\n",
       "             gamma=None, grow_policy=None, importance_type=None,\n",
       "             interaction_constraints=None, learning_rate=0.05, max_bin=None,\n",
       "             max_cat_threshold=None, max_cat_to_onehot=None,\n",
       "             max_delta_step=None, max_depth=None, max_leaves=None,\n",
       "             min_child_weight=None, missing=nan, monotone_constraints=None,\n",
       "             multi_strategy=None, n_estimators=1000, n_jobs=None,\n",
       "             num_parallel_tree=None, random_state=None, ...)</pre></div></div></div></div></div>"
      ],
      "text/plain": [
       "XGBRegressor(base_score=None, booster=None, callbacks=None,\n",
       "             colsample_bylevel=None, colsample_bynode=None,\n",
       "             colsample_bytree=None, device=None, early_stopping_rounds=None,\n",
       "             enable_categorical=False, eval_metric=None, feature_types=None,\n",
       "             gamma=None, grow_policy=None, importance_type=None,\n",
       "             interaction_constraints=None, learning_rate=0.05, max_bin=None,\n",
       "             max_cat_threshold=None, max_cat_to_onehot=None,\n",
       "             max_delta_step=None, max_depth=None, max_leaves=None,\n",
       "             min_child_weight=None, missing=nan, monotone_constraints=None,\n",
       "             multi_strategy=None, n_estimators=1000, n_jobs=None,\n",
       "             num_parallel_tree=None, random_state=None, ...)"
      ]
     },
     "execution_count": 16,
     "metadata": {},
     "output_type": "execute_result"
    }
   ],
   "source": [
    "from xgboost import XGBRegressor\n",
    "\n",
    "my_model = XGBRegressor(n_estimators=1000, learning_rate=0.05)\n",
    "my_model.fit(train_X, train_y, early_stopping_rounds=5, \n",
    "             eval_set=[(test_X, test_y)], verbose=False)"
   ]
  },
  {
   "cell_type": "code",
   "execution_count": 17,
   "id": "626ef7f4",
   "metadata": {
    "execution": {
     "iopub.execute_input": "2025-01-23T08:19:52.878010Z",
     "iopub.status.busy": "2025-01-23T08:19:52.877610Z",
     "iopub.status.idle": "2025-01-23T08:19:52.890866Z",
     "shell.execute_reply": "2025-01-23T08:19:52.888004Z"
    },
    "papermill": {
     "duration": 0.023347,
     "end_time": "2025-01-23T08:19:52.892993",
     "exception": false,
     "start_time": "2025-01-23T08:19:52.869646",
     "status": "completed"
    },
    "tags": []
   },
   "outputs": [
    {
     "name": "stdout",
     "output_type": "stream",
     "text": [
      "Mean Absolute Error : 141.73901170449398\n"
     ]
    }
   ],
   "source": [
    "# make predictions\n",
    "predictions = my_model.predict(test_X)\n",
    "\n",
    "from sklearn.metrics import mean_absolute_error\n",
    "print(\"Mean Absolute Error : \" + str(mean_absolute_error(predictions, test_y)))"
   ]
  }
 ],
 "metadata": {
  "kaggle": {
   "accelerator": "none",
   "dataSources": [
    {
     "datasetId": 4365344,
     "sourceId": 7496965,
     "sourceType": "datasetVersion"
    }
   ],
   "dockerImageVersionId": 30839,
   "isGpuEnabled": false,
   "isInternetEnabled": false,
   "language": "python",
   "sourceType": "notebook"
  },
  "kernelspec": {
   "display_name": "Python 3",
   "language": "python",
   "name": "python3"
  },
  "language_info": {
   "codemirror_mode": {
    "name": "ipython",
    "version": 3
   },
   "file_extension": ".py",
   "mimetype": "text/x-python",
   "name": "python",
   "nbconvert_exporter": "python",
   "pygments_lexer": "ipython3",
   "version": "3.10.12"
  },
  "papermill": {
   "default_parameters": {},
   "duration": 10.046469,
   "end_time": "2025-01-23T08:19:53.925867",
   "environment_variables": {},
   "exception": null,
   "input_path": "__notebook__.ipynb",
   "output_path": "__notebook__.ipynb",
   "parameters": {},
   "start_time": "2025-01-23T08:19:43.879398",
   "version": "2.6.0"
  }
 },
 "nbformat": 4,
 "nbformat_minor": 5
}
